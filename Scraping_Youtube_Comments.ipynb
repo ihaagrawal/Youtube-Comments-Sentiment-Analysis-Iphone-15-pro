{
  "nbformat": 4,
  "nbformat_minor": 0,
  "metadata": {
    "colab": {
      "provenance": [],
      "gpuType": "T4",
      "toc_visible": true
    },
    "kernelspec": {
      "name": "python3",
      "display_name": "Python 3"
    },
    "language_info": {
      "name": "python"
    },
    "accelerator": "GPU"
  },
  "cells": [
    {
      "cell_type": "code",
      "source": [
        "import googleapiclient.discovery\n",
        "import pandas as pd\n",
        "import time\n",
        "\n",
        "api_service_name = \"youtube\"\n",
        "api_version = \"v3\"\n",
        "DEVELOPER_KEY = 'API_KEY_USED'  # Replace with your actual API key\n",
        "\n",
        "youtube = googleapiclient.discovery.build(\n",
        "    api_service_name, api_version, developerKey=DEVELOPER_KEY)\n",
        "\n",
        "def get_comments(video_id):\n",
        "    comments = []\n",
        "    nextPageToken = None\n",
        "\n",
        "    while True:\n",
        "        try:\n",
        "            request = youtube.commentThreads().list(\n",
        "                part=\"snippet\",\n",
        "                videoId=video_id,\n",
        "                maxResults=100,\n",
        "                pageToken=nextPageToken if nextPageToken else ''\n",
        "            )\n",
        "\n",
        "            response = request.execute()\n",
        "\n",
        "            for item in response['items']:\n",
        "                comment = item['snippet']['topLevelComment']['snippet']\n",
        "                public = item['snippet']['isPublic']\n",
        "                comments.append([\n",
        "                    comment['authorDisplayName'],\n",
        "                    comment['publishedAt'],\n",
        "                    comment['likeCount'],\n",
        "                    comment['textOriginal'],\n",
        "                    comment['videoId'],\n",
        "                    public\n",
        "                ])\n",
        "\n",
        "            nextPageToken = response.get('nextPageToken')\n",
        "            if not nextPageToken:\n",
        "                break\n",
        "\n",
        "            time.sleep(1)  # Add a delay to respect API rate limits\n",
        "\n",
        "        except Exception as e:\n",
        "            print(f\"Error fetching comments for video ID {video_id}: {e}\")\n",
        "            break\n",
        "\n",
        "    df = pd.DataFrame(comments, columns=['author', 'updated_at', 'like_count', 'text', 'video_id', 'public'])\n",
        "    return df\n",
        "\n",
        "df = pd.DataFrame()\n",
        "videos = ['cBpGq-vDr2Y', 'AzALiMv6hpY', 'oqjWnA7J0f0', 'RBe0MVJ_XlU', 'OMUSjIUOKiM', 'ZdjE0i8jozo', 'To54FvXT5m0', 'JwAfHEHQKto', '7Dcv9lyikrw', 'YmwskGLycHo', 'EeTs67l69B4', 'WzPjIIjfnso', 'Ipp4NqtL12U', 'SNqF6yMmCPc', '_3_ibMon2nU', 'NwR-jbIIILc', 'P6Crk0jWxk4', 'k5P4eLo2SRI', 'JwEYDgCsQrg', 'v2KhCGI1dUw', 'vozVLKLCo_k']\n",
        "\n",
        "for video_id in videos:\n",
        "    df2 = get_comments(video_id)\n",
        "    df = pd.concat([df, df2], ignore_index=True)\n",
        "\n",
        "print(df.head())\n"
      ],
      "metadata": {
        "colab": {
          "base_uri": "https://localhost:8080/"
        },
        "id": "GjVP6PZrDIPc",
        "outputId": "32b64203-eef2-435c-f702-ef5f139e38c0"
      },
      "execution_count": null,
      "outputs": [
        {
          "output_type": "stream",
          "name": "stdout",
          "text": [
            "                author            updated_at  like_count  \\\n",
            "0        @abdlkrim9296  2024-07-15T12:07:27Z           0   \n",
            "1       @JasperStaal86  2024-07-14T17:24:11Z           0   \n",
            "2       @oneegiiie1490  2024-07-14T06:09:54Z           0   \n",
            "3  @hariyanhariyan7556  2024-07-14T04:35:29Z           0   \n",
            "4          @SoulAmatus  2024-07-13T23:15:56Z           0   \n",
            "\n",
            "                                                text     video_id  public  \n",
            "0  i'm not here for apple or review, i'm here for...  cBpGq-vDr2Y    True  \n",
            "1           What is that fancy weather app at 9:56 👀  cBpGq-vDr2Y    True  \n",
            "2                                         4:56 ✈️ 🏙️  cBpGq-vDr2Y    True  \n",
            "3                                          MrBeast ⚡  cBpGq-vDr2Y    True  \n",
            "4  I have a 7 plus and want to upgrade. I’m hopin...  cBpGq-vDr2Y    True  \n"
          ]
        }
      ]
    },
    {
      "cell_type": "code",
      "source": [
        "df.shape"
      ],
      "metadata": {
        "colab": {
          "base_uri": "https://localhost:8080/"
        },
        "id": "mNlBODZ9FyaT",
        "outputId": "0a15f4e5-9403-4c59-b4e0-0ea76eee0b4f"
      },
      "execution_count": null,
      "outputs": [
        {
          "output_type": "execute_result",
          "data": {
            "text/plain": [
              "(61306, 6)"
            ]
          },
          "metadata": {},
          "execution_count": 27
        }
      ]
    },
    {
      "cell_type": "code",
      "source": [
        "df.to_csv('comments.csv')"
      ],
      "metadata": {
        "id": "OElygPQXJdzN"
      },
      "execution_count": null,
      "outputs": []
    },
    {
      "cell_type": "code",
      "source": [],
      "metadata": {
        "id": "PzG66AqXJh74"
      },
      "execution_count": null,
      "outputs": []
    }
  ]
}
